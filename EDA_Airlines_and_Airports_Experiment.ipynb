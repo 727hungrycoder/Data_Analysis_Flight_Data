{
 "cells": [
  {
   "cell_type": "code",
   "execution_count": 1,
   "id": "3f6dd24b-6d57-4f65-8738-dbedea104517",
   "metadata": {},
   "outputs": [],
   "source": [
    "import polars as pl\n",
    "import pandas as pd\n",
    "import duckdb\n",
    "import matplotlib.pyplot as plt\n",
    "import seaborn as sns\n"
   ]
  },
  {
   "cell_type": "code",
   "execution_count": 2,
   "id": "356565a9-c773-491a-9493-af595272859b",
   "metadata": {},
   "outputs": [],
   "source": [
    "import polars as pl\n",
    "\n",
    "class DataLoader:\n",
    "    def __init__(self, flights_path, airlines_path, airports_path):\n",
    "        self.flights_path = flights_path\n",
    "        self.airlines_path = airlines_path\n",
    "        self.airports_path = airports_path\n",
    "        self.flights_df = None\n",
    "        self.airlines_df = None\n",
    "        self.airports_df = None\n",
    "\n",
    "    def load_data(self):\n",
    "        self.flights_df = pl.read_csv(self.flights_path)\n",
    "        self.airlines_df = pl.read_csv(self.airlines_path)\n",
    "        self.airports_df = pl.read_csv(self.airports_path)\n",
    "        return self.flights_df, self.airlines_df, self.airports_df"
   ]
  },
  {
   "cell_type": "code",
   "execution_count": 3,
   "id": "078db27b-57f8-4387-98fa-2a8c980cdf63",
   "metadata": {},
   "outputs": [
    {
     "name": "stdout",
     "output_type": "stream",
     "text": [
      "Flights DataFrame:\n",
      "shape: (5, 31)\n",
      "┌──────┬───────┬─────┬─────────────┬───┬────────────────┬───────────────┬─────────────────────┬───────────────┐\n",
      "│ YEAR ┆ MONTH ┆ DAY ┆ DAY_OF_WEEK ┆ … ┆ SECURITY_DELAY ┆ AIRLINE_DELAY ┆ LATE_AIRCRAFT_DELAY ┆ WEATHER_DELAY │\n",
      "│ ---  ┆ ---   ┆ --- ┆ ---         ┆   ┆ ---            ┆ ---           ┆ ---                 ┆ ---           │\n",
      "│ i64  ┆ i64   ┆ i64 ┆ i64         ┆   ┆ i64            ┆ i64           ┆ i64                 ┆ i64           │\n",
      "╞══════╪═══════╪═════╪═════════════╪═══╪════════════════╪═══════════════╪═════════════════════╪═══════════════╡\n",
      "│ 2015 ┆ 1     ┆ 1   ┆ 4           ┆ … ┆ null           ┆ null          ┆ null                ┆ null          │\n",
      "│ 2015 ┆ 1     ┆ 1   ┆ 4           ┆ … ┆ null           ┆ null          ┆ null                ┆ null          │\n",
      "│ 2015 ┆ 1     ┆ 1   ┆ 4           ┆ … ┆ null           ┆ null          ┆ null                ┆ null          │\n",
      "│ 2015 ┆ 1     ┆ 1   ┆ 4           ┆ … ┆ null           ┆ null          ┆ null                ┆ null          │\n",
      "│ 2015 ┆ 1     ┆ 1   ┆ 4           ┆ … ┆ null           ┆ null          ┆ null                ┆ null          │\n",
      "└──────┴───────┴─────┴─────────────┴───┴────────────────┴───────────────┴─────────────────────┴───────────────┘\n",
      "Shape: (5819079, 31)\n",
      "\n",
      "Airlines DataFrame:\n",
      "shape: (5, 2)\n",
      "┌───────────┬────────────────────────┐\n",
      "│ IATA_CODE ┆ AIRLINE                │\n",
      "│ ---       ┆ ---                    │\n",
      "│ str       ┆ str                    │\n",
      "╞═══════════╪════════════════════════╡\n",
      "│ UA        ┆ United Air Lines Inc.  │\n",
      "│ AA        ┆ American Airlines Inc. │\n",
      "│ US        ┆ US Airways Inc.        │\n",
      "│ F9        ┆ Frontier Airlines Inc. │\n",
      "│ B6        ┆ JetBlue Airways        │\n",
      "└───────────┴────────────────────────┘\n",
      "Shape: (14, 2)\n",
      "\n",
      "Airports DataFrame:\n",
      "shape: (5, 7)\n",
      "┌───────────┬─────────────────────────────────┬─────────────┬───────┬─────────┬──────────┬────────────┐\n",
      "│ IATA_CODE ┆ AIRPORT                         ┆ CITY        ┆ STATE ┆ COUNTRY ┆ LATITUDE ┆ LONGITUDE  │\n",
      "│ ---       ┆ ---                             ┆ ---         ┆ ---   ┆ ---     ┆ ---      ┆ ---        │\n",
      "│ str       ┆ str                             ┆ str         ┆ str   ┆ str     ┆ f64      ┆ f64        │\n",
      "╞═══════════╪═════════════════════════════════╪═════════════╪═══════╪═════════╪══════════╪════════════╡\n",
      "│ ABE       ┆ Lehigh Valley International Ai… ┆ Allentown   ┆ PA    ┆ USA     ┆ 40.65236 ┆ -75.4404   │\n",
      "│ ABI       ┆ Abilene Regional Airport        ┆ Abilene     ┆ TX    ┆ USA     ┆ 32.41132 ┆ -99.6819   │\n",
      "│ ABQ       ┆ Albuquerque International Sunp… ┆ Albuquerque ┆ NM    ┆ USA     ┆ 35.04022 ┆ -106.60919 │\n",
      "│ ABR       ┆ Aberdeen Regional Airport       ┆ Aberdeen    ┆ SD    ┆ USA     ┆ 45.44906 ┆ -98.42183  │\n",
      "│ ABY       ┆ Southwest Georgia Regional Air… ┆ Albany      ┆ GA    ┆ USA     ┆ 31.53552 ┆ -84.19447  │\n",
      "└───────────┴─────────────────────────────────┴─────────────┴───────┴─────────┴──────────┴────────────┘\n",
      "Shape: (322, 7)\n"
     ]
    }
   ],
   "source": [
    "# Create an instance of DataLoader\n",
    "loader = DataLoader('flights.csv', 'airlines.csv', 'airports.csv')\n",
    "\n",
    "# Load the data\n",
    "flights_df, airlines_df, airports_df = loader.load_data()\n",
    "\n",
    "# Print some information about the loaded data\n",
    "print(\"Flights DataFrame:\")\n",
    "print(flights_df.head())\n",
    "print(f\"Shape: {flights_df.shape}\")\n",
    "\n",
    "print(\"\\nAirlines DataFrame:\")\n",
    "print(airlines_df.head())\n",
    "print(f\"Shape: {airlines_df.shape}\")\n",
    "\n",
    "print(\"\\nAirports DataFrame:\")\n",
    "print(airports_df.head())\n",
    "print(f\"Shape: {airports_df.shape}\")"
   ]
  },
  {
   "cell_type": "code",
   "execution_count": 4,
   "id": "eb535b31-e331-47bb-b7dd-64ad52528d67",
   "metadata": {},
   "outputs": [
    {
     "name": "stdout",
     "output_type": "stream",
     "text": [
      "\n",
      "Airlines EDA:\n",
      "shape: (9, 3)\n",
      "┌────────────┬───────────┬──────────────────────┐\n",
      "│ statistic  ┆ IATA_CODE ┆ AIRLINE              │\n",
      "│ ---        ┆ ---       ┆ ---                  │\n",
      "│ str        ┆ str       ┆ str                  │\n",
      "╞════════════╪═══════════╪══════════════════════╡\n",
      "│ count      ┆ 14        ┆ 14                   │\n",
      "│ null_count ┆ 0         ┆ 0                    │\n",
      "│ mean       ┆ null      ┆ null                 │\n",
      "│ std        ┆ null      ┆ null                 │\n",
      "│ min        ┆ AA        ┆ Alaska Airlines Inc. │\n",
      "│ 25%        ┆ null      ┆ null                 │\n",
      "│ 50%        ┆ null      ┆ null                 │\n",
      "│ 75%        ┆ null      ┆ null                 │\n",
      "│ max        ┆ WN        ┆ Virgin America       │\n",
      "└────────────┴───────────┴──────────────────────┘\n"
     ]
    }
   ],
   "source": [
    "# Basic EDA for Airlines\n",
    "print(\"\\nAirlines EDA:\")\n",
    "print(airlines_df.describe())\n"
   ]
  },
  {
   "cell_type": "code",
   "execution_count": 5,
   "id": "9ecbb613-94e0-41e5-8b5c-384ac78b6219",
   "metadata": {},
   "outputs": [
    {
     "name": "stdout",
     "output_type": "stream",
     "text": [
      "\n",
      "Number of airlines: 14\n"
     ]
    }
   ],
   "source": [
    "# Count of airlines\n",
    "print(\"\\nNumber of airlines:\", len(airlines_df))"
   ]
  },
  {
   "cell_type": "code",
   "execution_count": 6,
   "id": "86380f68-f439-45ff-b526-77a8f44579a8",
   "metadata": {},
   "outputs": [
    {
     "name": "stdout",
     "output_type": "stream",
     "text": [
      "\n",
      "List of all airlines:\n",
      "shape: (14, 2)\n",
      "┌───────────┬──────────────────────────────┐\n",
      "│ IATA_CODE ┆ AIRLINE                      │\n",
      "│ ---       ┆ ---                          │\n",
      "│ str       ┆ str                          │\n",
      "╞═══════════╪══════════════════════════════╡\n",
      "│ AS        ┆ Alaska Airlines Inc.         │\n",
      "│ AA        ┆ American Airlines Inc.       │\n",
      "│ MQ        ┆ American Eagle Airlines Inc. │\n",
      "│ EV        ┆ Atlantic Southeast Airlines  │\n",
      "│ DL        ┆ Delta Air Lines Inc.         │\n",
      "│ …         ┆ …                            │\n",
      "│ WN        ┆ Southwest Airlines Co.       │\n",
      "│ NK        ┆ Spirit Air Lines             │\n",
      "│ US        ┆ US Airways Inc.              │\n",
      "│ UA        ┆ United Air Lines Inc.        │\n",
      "│ VX        ┆ Virgin America               │\n",
      "└───────────┴──────────────────────────────┘\n"
     ]
    }
   ],
   "source": [
    "# Display all airlines\n",
    "print(\"\\nList of all airlines:\")\n",
    "print(airlines_df.sort('AIRLINE'))"
   ]
  },
  {
   "cell_type": "code",
   "execution_count": 7,
   "id": "f5f07142-3e40-4bcd-a2cf-cd488ec971d1",
   "metadata": {},
   "outputs": [
    {
     "name": "stdout",
     "output_type": "stream",
     "text": [
      "\n",
      "Airports EDA:\n",
      "shape: (9, 8)\n",
      "┌────────────┬───────────┬────────────────────────────┬──────────┬───────┬─────────┬───────────┬────────────┐\n",
      "│ statistic  ┆ IATA_CODE ┆ AIRPORT                    ┆ CITY     ┆ STATE ┆ COUNTRY ┆ LATITUDE  ┆ LONGITUDE  │\n",
      "│ ---        ┆ ---       ┆ ---                        ┆ ---      ┆ ---   ┆ ---     ┆ ---       ┆ ---        │\n",
      "│ str        ┆ str       ┆ str                        ┆ str      ┆ str   ┆ str     ┆ f64       ┆ f64        │\n",
      "╞════════════╪═══════════╪════════════════════════════╪══════════╪═══════╪═════════╪═══════════╪════════════╡\n",
      "│ count      ┆ 322       ┆ 322                        ┆ 322      ┆ 322   ┆ 322     ┆ 319.0     ┆ 319.0      │\n",
      "│ null_count ┆ 0         ┆ 0                          ┆ 0        ┆ 0     ┆ 0       ┆ 3.0       ┆ 3.0        │\n",
      "│ mean       ┆ null      ┆ null                       ┆ null     ┆ null  ┆ null    ┆ 38.981244 ┆ -98.378964 │\n",
      "│ std        ┆ null      ┆ null                       ┆ null     ┆ null  ┆ null    ┆ 8.616736  ┆ 21.523492  │\n",
      "│ min        ┆ ABE       ┆ Aberdeen Regional Airport  ┆ Aberdeen ┆ AK    ┆ USA     ┆ 13.48345  ┆ -176.64603 │\n",
      "│ 25%        ┆ null      ┆ null                       ┆ null     ┆ null  ┆ null    ┆ 33.66364  ┆ -110.73774 │\n",
      "│ 50%        ┆ null      ┆ null                       ┆ null     ┆ null  ┆ null    ┆ 39.29761  ┆ -93.40307  │\n",
      "│ 75%        ┆ null      ┆ null                       ┆ null     ┆ null  ┆ null    ┆ 43.16949  ┆ -82.55411  │\n",
      "│ max        ┆ YUM       ┆ Yuma International Airport ┆ Yuma     ┆ WY    ┆ USA     ┆ 71.28545  ┆ -64.79856  │\n",
      "└────────────┴───────────┴────────────────────────────┴──────────┴───────┴─────────┴───────────┴────────────┘\n"
     ]
    }
   ],
   "source": [
    "# Basic EDA for Airports\n",
    "print(\"\\nAirports EDA:\")\n",
    "print(airports_df.describe())"
   ]
  },
  {
   "cell_type": "code",
   "execution_count": 8,
   "id": "6808dd77-6ca9-4554-9094-443cc314274d",
   "metadata": {},
   "outputs": [
    {
     "name": "stdout",
     "output_type": "stream",
     "text": [
      "\n",
      "List of all AIRPORTS:\n",
      "shape: (322, 7)\n",
      "┌───────────┬─────────────────────────────────┬─────────────┬───────┬─────────┬──────────┬────────────┐\n",
      "│ IATA_CODE ┆ AIRPORT                         ┆ CITY        ┆ STATE ┆ COUNTRY ┆ LATITUDE ┆ LONGITUDE  │\n",
      "│ ---       ┆ ---                             ┆ ---         ┆ ---   ┆ ---     ┆ ---      ┆ ---        │\n",
      "│ str       ┆ str                             ┆ str         ┆ str   ┆ str     ┆ f64      ┆ f64        │\n",
      "╞═══════════╪═════════════════════════════════╪═════════════╪═══════╪═════════╪══════════╪════════════╡\n",
      "│ ABR       ┆ Aberdeen Regional Airport       ┆ Aberdeen    ┆ SD    ┆ USA     ┆ 45.44906 ┆ -98.42183  │\n",
      "│ ABI       ┆ Abilene Regional Airport        ┆ Abilene     ┆ TX    ┆ USA     ┆ 32.41132 ┆ -99.6819   │\n",
      "│ SPI       ┆ Abraham Lincoln Capital Airpor… ┆ Springfield ┆ IL    ┆ USA     ┆ 39.84395 ┆ -89.67762  │\n",
      "│ ADK       ┆ Adak Airport                    ┆ Adak        ┆ AK    ┆ USA     ┆ 51.87796 ┆ -176.64603 │\n",
      "│ CAK       ┆ Akron-Canton Regional Airport   ┆ Akron       ┆ OH    ┆ USA     ┆ 40.91631 ┆ -81.44247  │\n",
      "│ …         ┆ …                               ┆ …           ┆ …     ┆ …       ┆ …        ┆ …          │\n",
      "│ YAK       ┆ Yakutat Airport                 ┆ Yakutat     ┆ AK    ┆ USA     ┆ 59.50336 ┆ -139.66023 │\n",
      "│ HDN       ┆ Yampa Valley Airport (Yampa Va… ┆ Hayden      ┆ CO    ┆ USA     ┆ 40.48118 ┆ -107.21766 │\n",
      "│ CRW       ┆ Yeager Airport                  ┆ Charleston  ┆ WV    ┆ USA     ┆ 38.37315 ┆ -81.59319  │\n",
      "│ COD       ┆ Yellowstone Regional Airport    ┆ Cody        ┆ WY    ┆ USA     ┆ 44.52019 ┆ -109.0238  │\n",
      "│ YUM       ┆ Yuma International Airport      ┆ Yuma        ┆ AZ    ┆ USA     ┆ 32.65658 ┆ -114.60597 │\n",
      "└───────────┴─────────────────────────────────┴─────────────┴───────┴─────────┴──────────┴────────────┘\n"
     ]
    }
   ],
   "source": [
    "# Display all airlines\n",
    "print(\"\\nList of all AIRPORTS:\")\n",
    "print(airports_df.sort('AIRPORT'))"
   ]
  },
  {
   "cell_type": "code",
   "execution_count": 9,
   "id": "5d0f4467-80d5-467f-b3c1-738559d132a4",
   "metadata": {},
   "outputs": [
    {
     "name": "stdout",
     "output_type": "stream",
     "text": [
      "\n",
      "Airlines EDA:\n",
      "shape: (9, 32)\n",
      "┌────────────┬────────────┬────────────┬────────────┬───┬───────────────┬───────────────┬───────────────┬──────────────┐\n",
      "│ statistic  ┆ YEAR       ┆ MONTH      ┆ DAY        ┆ … ┆ SECURITY_DELA ┆ AIRLINE_DELAY ┆ LATE_AIRCRAFT ┆ WEATHER_DELA │\n",
      "│ ---        ┆ ---        ┆ ---        ┆ ---        ┆   ┆ Y             ┆ ---           ┆ _DELAY        ┆ Y            │\n",
      "│ str        ┆ f64        ┆ f64        ┆ f64        ┆   ┆ ---           ┆ f64           ┆ ---           ┆ ---          │\n",
      "│            ┆            ┆            ┆            ┆   ┆ f64           ┆               ┆ f64           ┆ f64          │\n",
      "╞════════════╪════════════╪════════════╪════════════╪═══╪═══════════════╪═══════════════╪═══════════════╪══════════════╡\n",
      "│ count      ┆ 5.819079e6 ┆ 5.819079e6 ┆ 5.819079e6 ┆ … ┆ 1.063439e6    ┆ 1.063439e6    ┆ 1.063439e6    ┆ 1.063439e6   │\n",
      "│ null_count ┆ 0.0        ┆ 0.0        ┆ 0.0        ┆ … ┆ 4.75564e6     ┆ 4.75564e6     ┆ 4.75564e6     ┆ 4.75564e6    │\n",
      "│ mean       ┆ 2015.0     ┆ 6.524085   ┆ 15.704594  ┆ … ┆ 0.076154      ┆ 18.969547     ┆ 23.472838     ┆ 2.91529      │\n",
      "│ std        ┆ 0.0        ┆ 3.405137   ┆ 8.783425   ┆ … ┆ 2.14346       ┆ 48.161642     ┆ 43.197018     ┆ 20.433336    │\n",
      "│ min        ┆ 2015.0     ┆ 1.0        ┆ 1.0        ┆ … ┆ 0.0           ┆ 0.0           ┆ 0.0           ┆ 0.0          │\n",
      "│ 25%        ┆ 2015.0     ┆ 4.0        ┆ 8.0        ┆ … ┆ 0.0           ┆ 0.0           ┆ 0.0           ┆ 0.0          │\n",
      "│ 50%        ┆ 2015.0     ┆ 7.0        ┆ 16.0       ┆ … ┆ 0.0           ┆ 2.0           ┆ 3.0           ┆ 0.0          │\n",
      "│ 75%        ┆ 2015.0     ┆ 9.0        ┆ 23.0       ┆ … ┆ 0.0           ┆ 19.0          ┆ 29.0          ┆ 0.0          │\n",
      "│ max        ┆ 2015.0     ┆ 12.0       ┆ 31.0       ┆ … ┆ 573.0         ┆ 1971.0        ┆ 1331.0        ┆ 1211.0       │\n",
      "└────────────┴────────────┴────────────┴────────────┴───┴───────────────┴───────────────┴───────────────┴──────────────┘\n"
     ]
    }
   ],
   "source": [
    "# Basic EDA for fLIGHTS\n",
    "print(\"\\nAirlines EDA:\")\n",
    "print(flights_df.describe())"
   ]
  },
  {
   "cell_type": "code",
   "execution_count": 10,
   "id": "75c446f2-ebf2-4303-98ca-0751ffe3f1e9",
   "metadata": {},
   "outputs": [
    {
     "data": {
      "text/html": [
       "<div><style>\n",
       ".dataframe > thead > tr,\n",
       ".dataframe > tbody > tr {\n",
       "  text-align: right;\n",
       "  white-space: pre-wrap;\n",
       "}\n",
       "</style>\n",
       "<small>shape: (1, 31)</small><table border=\"1\" class=\"dataframe\"><thead><tr><th>YEAR</th><th>MONTH</th><th>DAY</th><th>DAY_OF_WEEK</th><th>AIRLINE</th><th>FLIGHT_NUMBER</th><th>TAIL_NUMBER</th><th>ORIGIN_AIRPORT</th><th>DESTINATION_AIRPORT</th><th>SCHEDULED_DEPARTURE</th><th>DEPARTURE_TIME</th><th>DEPARTURE_DELAY</th><th>TAXI_OUT</th><th>WHEELS_OFF</th><th>SCHEDULED_TIME</th><th>ELAPSED_TIME</th><th>AIR_TIME</th><th>DISTANCE</th><th>WHEELS_ON</th><th>TAXI_IN</th><th>SCHEDULED_ARRIVAL</th><th>ARRIVAL_TIME</th><th>ARRIVAL_DELAY</th><th>DIVERTED</th><th>CANCELLED</th><th>CANCELLATION_REASON</th><th>AIR_SYSTEM_DELAY</th><th>SECURITY_DELAY</th><th>AIRLINE_DELAY</th><th>LATE_AIRCRAFT_DELAY</th><th>WEATHER_DELAY</th></tr><tr><td>u32</td><td>u32</td><td>u32</td><td>u32</td><td>u32</td><td>u32</td><td>u32</td><td>u32</td><td>u32</td><td>u32</td><td>u32</td><td>u32</td><td>u32</td><td>u32</td><td>u32</td><td>u32</td><td>u32</td><td>u32</td><td>u32</td><td>u32</td><td>u32</td><td>u32</td><td>u32</td><td>u32</td><td>u32</td><td>u32</td><td>u32</td><td>u32</td><td>u32</td><td>u32</td><td>u32</td></tr></thead><tbody><tr><td>0</td><td>0</td><td>0</td><td>0</td><td>0</td><td>0</td><td>14721</td><td>0</td><td>0</td><td>0</td><td>86153</td><td>86153</td><td>89047</td><td>89047</td><td>6</td><td>105071</td><td>105071</td><td>0</td><td>92513</td><td>92513</td><td>0</td><td>92513</td><td>105071</td><td>0</td><td>0</td><td>5729195</td><td>4755640</td><td>4755640</td><td>4755640</td><td>4755640</td><td>4755640</td></tr></tbody></table></div>"
      ],
      "text/plain": [
       "shape: (1, 31)\n",
       "┌──────┬───────┬─────┬─────────────┬───┬────────────────┬───────────────┬─────────────────────┬───────────────┐\n",
       "│ YEAR ┆ MONTH ┆ DAY ┆ DAY_OF_WEEK ┆ … ┆ SECURITY_DELAY ┆ AIRLINE_DELAY ┆ LATE_AIRCRAFT_DELAY ┆ WEATHER_DELAY │\n",
       "│ ---  ┆ ---   ┆ --- ┆ ---         ┆   ┆ ---            ┆ ---           ┆ ---                 ┆ ---           │\n",
       "│ u32  ┆ u32   ┆ u32 ┆ u32         ┆   ┆ u32            ┆ u32           ┆ u32                 ┆ u32           │\n",
       "╞══════╪═══════╪═════╪═════════════╪═══╪════════════════╪═══════════════╪═════════════════════╪═══════════════╡\n",
       "│ 0    ┆ 0     ┆ 0   ┆ 0           ┆ … ┆ 4755640        ┆ 4755640       ┆ 4755640             ┆ 4755640       │\n",
       "└──────┴───────┴─────┴─────────────┴───┴────────────────┴───────────────┴─────────────────────┴───────────────┘"
      ]
     },
     "execution_count": 10,
     "metadata": {},
     "output_type": "execute_result"
    }
   ],
   "source": [
    "flights_df.null_count() #Check Distribution of Airlines"
   ]
  },
  {
   "cell_type": "code",
   "execution_count": 11,
   "id": "0ea1a8c9-19c1-49fe-b4f8-fa5fc10a0b1a",
   "metadata": {},
   "outputs": [
    {
     "data": {
      "text/html": [
       "<div><style>\n",
       ".dataframe > thead > tr,\n",
       ".dataframe > tbody > tr {\n",
       "  text-align: right;\n",
       "  white-space: pre-wrap;\n",
       "}\n",
       "</style>\n",
       "<small>shape: (14, 2)</small><table border=\"1\" class=\"dataframe\"><thead><tr><th>AIRLINE</th><th>count</th></tr><tr><td>str</td><td>u32</td></tr></thead><tbody><tr><td>&quot;HA&quot;</td><td>76272</td></tr><tr><td>&quot;US&quot;</td><td>198715</td></tr><tr><td>&quot;B6&quot;</td><td>267048</td></tr><tr><td>&quot;NK&quot;</td><td>117379</td></tr><tr><td>&quot;EV&quot;</td><td>571977</td></tr><tr><td>&hellip;</td><td>&hellip;</td></tr><tr><td>&quot;OO&quot;</td><td>588353</td></tr><tr><td>&quot;UA&quot;</td><td>515723</td></tr><tr><td>&quot;VX&quot;</td><td>61903</td></tr><tr><td>&quot;AA&quot;</td><td>725984</td></tr><tr><td>&quot;AS&quot;</td><td>172521</td></tr></tbody></table></div>"
      ],
      "text/plain": [
       "shape: (14, 2)\n",
       "┌─────────┬────────┐\n",
       "│ AIRLINE ┆ count  │\n",
       "│ ---     ┆ ---    │\n",
       "│ str     ┆ u32    │\n",
       "╞═════════╪════════╡\n",
       "│ HA      ┆ 76272  │\n",
       "│ US      ┆ 198715 │\n",
       "│ B6      ┆ 267048 │\n",
       "│ NK      ┆ 117379 │\n",
       "│ EV      ┆ 571977 │\n",
       "│ …       ┆ …      │\n",
       "│ OO      ┆ 588353 │\n",
       "│ UA      ┆ 515723 │\n",
       "│ VX      ┆ 61903  │\n",
       "│ AA      ┆ 725984 │\n",
       "│ AS      ┆ 172521 │\n",
       "└─────────┴────────┘"
      ]
     },
     "execution_count": 11,
     "metadata": {},
     "output_type": "execute_result"
    }
   ],
   "source": [
    "flights_df[\"AIRLINE\"].value_counts()\n"
   ]
  },
  {
   "cell_type": "code",
   "execution_count": 12,
   "id": "886a79e9-149c-489b-904f-16304ae47de4",
   "metadata": {},
   "outputs": [],
   "source": [
    "# Analyze Flight Delays"
   ]
  },
  {
   "cell_type": "code",
   "execution_count": 13,
   "id": "5a6cef1c-4962-4034-8d09-af98d102600e",
   "metadata": {},
   "outputs": [
    {
     "data": {
      "text/html": [
       "<div><style>\n",
       ".dataframe > thead > tr,\n",
       ".dataframe > tbody > tr {\n",
       "  text-align: right;\n",
       "  white-space: pre-wrap;\n",
       "}\n",
       "</style>\n",
       "<small>shape: (1, 2)</small><table border=\"1\" class=\"dataframe\"><thead><tr><th>Avg Departure Delay</th><th>Avg Arrival Delay</th></tr><tr><td>f64</td><td>f64</td></tr></thead><tbody><tr><td>9.370158</td><td>4.407057</td></tr></tbody></table></div>"
      ],
      "text/plain": [
       "shape: (1, 2)\n",
       "┌─────────────────────┬───────────────────┐\n",
       "│ Avg Departure Delay ┆ Avg Arrival Delay │\n",
       "│ ---                 ┆ ---               │\n",
       "│ f64                 ┆ f64               │\n",
       "╞═════════════════════╪═══════════════════╡\n",
       "│ 9.370158            ┆ 4.407057          │\n",
       "└─────────────────────┴───────────────────┘"
      ]
     },
     "execution_count": 13,
     "metadata": {},
     "output_type": "execute_result"
    }
   ],
   "source": [
    "flights_df.select([\n",
    "    pl.col(\"DEPARTURE_DELAY\").mean().alias(\"Avg Departure Delay\"),\n",
    "    pl.col(\"ARRIVAL_DELAY\").mean().alias(\"Avg Arrival Delay\")\n",
    "])\n"
   ]
  },
  {
   "cell_type": "code",
   "execution_count": 14,
   "id": "83187c11-0167-419d-9587-3562a0fb6249",
   "metadata": {},
   "outputs": [],
   "source": [
    "#  Find the Busiest Airports"
   ]
  },
  {
   "cell_type": "code",
   "execution_count": 15,
   "id": "ff4a4ee8-4b68-4b71-8a78-40ff019cb76d",
   "metadata": {},
   "outputs": [
    {
     "data": {
      "text/html": [
       "<div><style>\n",
       ".dataframe > thead > tr,\n",
       ".dataframe > tbody > tr {\n",
       "  text-align: right;\n",
       "  white-space: pre-wrap;\n",
       "}\n",
       "</style>\n",
       "<small>shape: (10, 2)</small><table border=\"1\" class=\"dataframe\"><thead><tr><th>ORIGIN_AIRPORT</th><th>count</th></tr><tr><td>str</td><td>u32</td></tr></thead><tbody><tr><td>&quot;ATL&quot;</td><td>346836</td></tr><tr><td>&quot;ORD&quot;</td><td>285884</td></tr><tr><td>&quot;DFW&quot;</td><td>239551</td></tr><tr><td>&quot;DEN&quot;</td><td>196055</td></tr><tr><td>&quot;LAX&quot;</td><td>194673</td></tr><tr><td>&quot;SFO&quot;</td><td>148008</td></tr><tr><td>&quot;PHX&quot;</td><td>146815</td></tr><tr><td>&quot;IAH&quot;</td><td>146622</td></tr><tr><td>&quot;LAS&quot;</td><td>133181</td></tr><tr><td>&quot;MSP&quot;</td><td>112117</td></tr></tbody></table></div>"
      ],
      "text/plain": [
       "shape: (10, 2)\n",
       "┌────────────────┬────────┐\n",
       "│ ORIGIN_AIRPORT ┆ count  │\n",
       "│ ---            ┆ ---    │\n",
       "│ str            ┆ u32    │\n",
       "╞════════════════╪════════╡\n",
       "│ ATL            ┆ 346836 │\n",
       "│ ORD            ┆ 285884 │\n",
       "│ DFW            ┆ 239551 │\n",
       "│ DEN            ┆ 196055 │\n",
       "│ LAX            ┆ 194673 │\n",
       "│ SFO            ┆ 148008 │\n",
       "│ PHX            ┆ 146815 │\n",
       "│ IAH            ┆ 146622 │\n",
       "│ LAS            ┆ 133181 │\n",
       "│ MSP            ┆ 112117 │\n",
       "└────────────────┴────────┘"
      ]
     },
     "execution_count": 15,
     "metadata": {},
     "output_type": "execute_result"
    }
   ],
   "source": [
    "flights_df[\"ORIGIN_AIRPORT\"].value_counts().sort(\"count\", descending=True).head(10)"
   ]
  },
  {
   "cell_type": "code",
   "execution_count": 16,
   "id": "bf3fc155-bb28-4969-8810-73c200e3b5b8",
   "metadata": {},
   "outputs": [
    {
     "data": {
      "text/html": [
       "<div><style>\n",
       ".dataframe > thead > tr,\n",
       ".dataframe > tbody > tr {\n",
       "  text-align: right;\n",
       "  white-space: pre-wrap;\n",
       "}\n",
       "</style>\n",
       "<small>shape: (14, 2)</small><table border=\"1\" class=\"dataframe\"><thead><tr><th>AIRLINE</th><th>Avg Arrival Delay</th></tr><tr><td>str</td><td>f64</td></tr></thead><tbody><tr><td>&quot;NK&quot;</td><td>14.4718</td></tr><tr><td>&quot;F9&quot;</td><td>12.504706</td></tr><tr><td>&quot;B6&quot;</td><td>6.677861</td></tr><tr><td>&quot;EV&quot;</td><td>6.585379</td></tr><tr><td>&quot;MQ&quot;</td><td>6.457873</td></tr><tr><td>&hellip;</td><td>&hellip;</td></tr><tr><td>&quot;US&quot;</td><td>3.706209</td></tr><tr><td>&quot;AA&quot;</td><td>3.451372</td></tr><tr><td>&quot;HA&quot;</td><td>2.023093</td></tr><tr><td>&quot;DL&quot;</td><td>0.186754</td></tr><tr><td>&quot;AS&quot;</td><td>-0.976563</td></tr></tbody></table></div>"
      ],
      "text/plain": [
       "shape: (14, 2)\n",
       "┌─────────┬───────────────────┐\n",
       "│ AIRLINE ┆ Avg Arrival Delay │\n",
       "│ ---     ┆ ---               │\n",
       "│ str     ┆ f64               │\n",
       "╞═════════╪═══════════════════╡\n",
       "│ NK      ┆ 14.4718           │\n",
       "│ F9      ┆ 12.504706         │\n",
       "│ B6      ┆ 6.677861          │\n",
       "│ EV      ┆ 6.585379          │\n",
       "│ MQ      ┆ 6.457873          │\n",
       "│ …       ┆ …                 │\n",
       "│ US      ┆ 3.706209          │\n",
       "│ AA      ┆ 3.451372          │\n",
       "│ HA      ┆ 2.023093          │\n",
       "│ DL      ┆ 0.186754          │\n",
       "│ AS      ┆ -0.976563         │\n",
       "└─────────┴───────────────────┘"
      ]
     },
     "execution_count": 16,
     "metadata": {},
     "output_type": "execute_result"
    }
   ],
   "source": [
    "#Check Delays by Airline\n",
    "\n",
    "flights_df.group_by(\"AIRLINE\").agg(\n",
    "    pl.col(\"ARRIVAL_DELAY\").mean().alias(\"Avg Arrival Delay\")\n",
    ").sort(\"Avg Arrival Delay\", descending=True)\n",
    "\n"
   ]
  },
  {
   "cell_type": "code",
   "execution_count": 17,
   "id": "5bee93c8-0ab3-47e7-9cba-5605f0be1e03",
   "metadata": {},
   "outputs": [
    {
     "data": {
      "text/html": [
       "<div><style>\n",
       ".dataframe > thead > tr,\n",
       ".dataframe > tbody > tr {\n",
       "  text-align: right;\n",
       "  white-space: pre-wrap;\n",
       "}\n",
       "</style>\n",
       "<small>shape: (5, 2)</small><table border=\"1\" class=\"dataframe\"><thead><tr><th>CANCELLATION_REASON</th><th>count</th></tr><tr><td>str</td><td>u32</td></tr></thead><tbody><tr><td>&quot;D&quot;</td><td>22</td></tr><tr><td>&quot;A&quot;</td><td>25262</td></tr><tr><td>&quot;C&quot;</td><td>15749</td></tr><tr><td>&quot;B&quot;</td><td>48851</td></tr><tr><td>null</td><td>5729195</td></tr></tbody></table></div>"
      ],
      "text/plain": [
       "shape: (5, 2)\n",
       "┌─────────────────────┬─────────┐\n",
       "│ CANCELLATION_REASON ┆ count   │\n",
       "│ ---                 ┆ ---     │\n",
       "│ str                 ┆ u32     │\n",
       "╞═════════════════════╪═════════╡\n",
       "│ D                   ┆ 22      │\n",
       "│ A                   ┆ 25262   │\n",
       "│ C                   ┆ 15749   │\n",
       "│ B                   ┆ 48851   │\n",
       "│ null                ┆ 5729195 │\n",
       "└─────────────────────┴─────────┘"
      ]
     },
     "execution_count": 17,
     "metadata": {},
     "output_type": "execute_result"
    }
   ],
   "source": [
    "#Analyze Cancellations\n",
    "\n",
    "flights_df[\"CANCELLATION_REASON\"].value_counts()"
   ]
  },
  {
   "cell_type": "code",
   "execution_count": 18,
   "id": "b51fb8da-6a17-4b38-b0c5-31b023d4841c",
   "metadata": {},
   "outputs": [
    {
     "name": "stdout",
     "output_type": "stream",
     "text": [
      "Dataset Shape: (5819079, 31)\n",
      "\n",
      "Column Names: ['YEAR', 'MONTH', 'DAY', 'DAY_OF_WEEK', 'AIRLINE', 'FLIGHT_NUMBER', 'TAIL_NUMBER', 'ORIGIN_AIRPORT', 'DESTINATION_AIRPORT', 'SCHEDULED_DEPARTURE', 'DEPARTURE_TIME', 'DEPARTURE_DELAY', 'TAXI_OUT', 'WHEELS_OFF', 'SCHEDULED_TIME', 'ELAPSED_TIME', 'AIR_TIME', 'DISTANCE', 'WHEELS_ON', 'TAXI_IN', 'SCHEDULED_ARRIVAL', 'ARRIVAL_TIME', 'ARRIVAL_DELAY', 'DIVERTED', 'CANCELLED', 'CANCELLATION_REASON', 'AIR_SYSTEM_DELAY', 'SECURITY_DELAY', 'AIRLINE_DELAY', 'LATE_AIRCRAFT_DELAY', 'WEATHER_DELAY']\n",
      "\n",
      "Data Types:\n",
      " [Int64, Int64, Int64, Int64, String, Int64, String, String, String, Int64, Int64, Int64, Int64, Int64, Int64, Int64, Int64, Int64, Int64, Int64, Int64, Int64, Int64, Int64, Int64, String, Int64, Int64, Int64, Int64, Int64]\n",
      "\n",
      "Missing Values:\n",
      " shape: (1, 31)\n",
      "┌──────┬───────┬─────┬─────────────┬───┬────────────────┬───────────────┬─────────────────────┬───────────────┐\n",
      "│ YEAR ┆ MONTH ┆ DAY ┆ DAY_OF_WEEK ┆ … ┆ SECURITY_DELAY ┆ AIRLINE_DELAY ┆ LATE_AIRCRAFT_DELAY ┆ WEATHER_DELAY │\n",
      "│ ---  ┆ ---   ┆ --- ┆ ---         ┆   ┆ ---            ┆ ---           ┆ ---                 ┆ ---           │\n",
      "│ u32  ┆ u32   ┆ u32 ┆ u32         ┆   ┆ u32            ┆ u32           ┆ u32                 ┆ u32           │\n",
      "╞══════╪═══════╪═════╪═════════════╪═══╪════════════════╪═══════════════╪═════════════════════╪═══════════════╡\n",
      "│ 0    ┆ 0     ┆ 0   ┆ 0           ┆ … ┆ 4755640        ┆ 4755640       ┆ 4755640             ┆ 4755640       │\n",
      "└──────┴───────┴─────┴─────────────┴───┴────────────────┴───────────────┴─────────────────────┴───────────────┘\n"
     ]
    }
   ],
   "source": [
    "import polars as pl\n",
    "import matplotlib.pyplot as plt\n",
    "import seaborn as sns\n",
    "from datetime import datetime\n",
    "\n",
    "# Load the data\n",
    "flights_df = pl.read_csv(\"flights.csv\")  # Replace with your actual file path\n",
    "\n",
    "# Basic EDA\n",
    "print(\"Dataset Shape:\", flights_df.shape)\n",
    "print(\"\\nColumn Names:\", flights_df.columns)\n",
    "print(\"\\nData Types:\\n\", flights_df.dtypes)\n",
    "\n",
    "# Check for missing values\n",
    "missing_values = flights_df.null_count()\n",
    "print(\"\\nMissing Values:\\n\", missing_values)\n",
    "\n",
    "# Remove rows with missing values\n",
    "flights_df = flights_df.drop_nulls()\n",
    "\n",
    "# Convert date columns to datetime\n",
    "flights_df = flights_df.with_columns([\n",
    "    pl.date(pl.col('YEAR'), pl.col('MONTH'), pl.col('DAY')).alias('DATE')])"
   ]
  },
  {
   "cell_type": "code",
   "execution_count": 19,
   "id": "98c5842b-865a-44dc-977b-db5945d568a9",
   "metadata": {},
   "outputs": [
    {
     "name": "stdout",
     "output_type": "stream",
     "text": [
      "Dataset Shape: (0, 32)\n",
      "\n",
      "Column Names: ['YEAR', 'MONTH', 'DAY', 'DAY_OF_WEEK', 'AIRLINE', 'FLIGHT_NUMBER', 'TAIL_NUMBER', 'ORIGIN_AIRPORT', 'DESTINATION_AIRPORT', 'SCHEDULED_DEPARTURE', 'DEPARTURE_TIME', 'DEPARTURE_DELAY', 'TAXI_OUT', 'WHEELS_OFF', 'SCHEDULED_TIME', 'ELAPSED_TIME', 'AIR_TIME', 'DISTANCE', 'WHEELS_ON', 'TAXI_IN', 'SCHEDULED_ARRIVAL', 'ARRIVAL_TIME', 'ARRIVAL_DELAY', 'DIVERTED', 'CANCELLED', 'CANCELLATION_REASON', 'AIR_SYSTEM_DELAY', 'SECURITY_DELAY', 'AIRLINE_DELAY', 'LATE_AIRCRAFT_DELAY', 'WEATHER_DELAY', 'DATE']\n",
      "\n",
      "Data Types:\n",
      " [Int64, Int64, Int64, Int64, String, Int64, String, String, String, Int64, Int64, Int64, Int64, Int64, Int64, Int64, Int64, Int64, Int64, Int64, Int64, Int64, Int64, Int64, Int64, String, Int64, Int64, Int64, Int64, Int64, Date]\n"
     ]
    }
   ],
   "source": [
    "# Basic EDA\n",
    "print(\"Dataset Shape:\", flights_df.shape)\n",
    "print(\"\\nColumn Names:\", flights_df.columns)\n",
    "print(\"\\nData Types:\\n\", flights_df.dtypes)"
   ]
  },
  {
   "cell_type": "code",
   "execution_count": 20,
   "id": "99a04523-77e0-4848-a7b5-6f6464767a8b",
   "metadata": {},
   "outputs": [
    {
     "name": "stdout",
     "output_type": "stream",
     "text": [
      "\n",
      "Missing Values:\n",
      " shape: (1, 32)\n",
      "┌──────┬───────┬─────┬─────────────┬───┬───────────────┬─────────────────────┬───────────────┬──────┐\n",
      "│ YEAR ┆ MONTH ┆ DAY ┆ DAY_OF_WEEK ┆ … ┆ AIRLINE_DELAY ┆ LATE_AIRCRAFT_DELAY ┆ WEATHER_DELAY ┆ DATE │\n",
      "│ ---  ┆ ---   ┆ --- ┆ ---         ┆   ┆ ---           ┆ ---                 ┆ ---           ┆ ---  │\n",
      "│ u32  ┆ u32   ┆ u32 ┆ u32         ┆   ┆ u32           ┆ u32                 ┆ u32           ┆ u32  │\n",
      "╞══════╪═══════╪═════╪═════════════╪═══╪═══════════════╪═════════════════════╪═══════════════╪══════╡\n",
      "│ 0    ┆ 0     ┆ 0   ┆ 0           ┆ … ┆ 0             ┆ 0                   ┆ 0             ┆ 0    │\n",
      "└──────┴───────┴─────┴─────────────┴───┴───────────────┴─────────────────────┴───────────────┴──────┘\n"
     ]
    }
   ],
   "source": [
    "# Check for missing values\n",
    "missing_values = flights_df.null_count()\n",
    "print(\"\\nMissing Values:\\n\", missing_values)"
   ]
  },
  {
   "cell_type": "code",
   "execution_count": 21,
   "id": "b78b70fd-80bb-45b7-948b-80799481b69a",
   "metadata": {},
   "outputs": [],
   "source": [
    "# Remove rows with missing values\n",
    "flights_df = flights_df.drop_nulls()"
   ]
  },
  {
   "cell_type": "code",
   "execution_count": 22,
   "id": "18aa88ee-6eb2-4a7d-ab8c-559c2fb9b26e",
   "metadata": {},
   "outputs": [],
   "source": [
    "# One-hot encoding for categorical columns\n",
    "categorical_columns = ['AIRLINE', 'ORIGIN_AIRPORT', 'DESTINATION_AIRPORT', 'CANCELLATION_REASON']\n",
    "\n",
    "for col in categorical_columns:\n",
    "    dummies = flights_df.select(pl.col(col)).to_dummies()\n",
    "    flights_df = flights_df.hstack(dummies)\n",
    "\n",
    "# Remove original categorical columns\n",
    "flights_df = flights_df.drop(categorical_columns)"
   ]
  },
  {
   "cell_type": "code",
   "execution_count": 23,
   "id": "a05d706c-fede-49c4-986b-4abd476d869b",
   "metadata": {},
   "outputs": [],
   "source": [
    "# Convert date columns to datetime\n",
    "flights_df = flights_df.with_columns([\n",
    "    pl.date(pl.col('YEAR'), pl.col('MONTH'), pl.col('DAY')).alias('DATE')\n",
    "])\n",
    "\n",
    "# Convert time columns to minutes since midnight\n",
    "for col in ['SCHEDULED_DEPARTURE', 'DEPARTURE_TIME', 'SCHEDULED_ARRIVAL', 'ARRIVAL_TIME']:\n",
    "    flights_df = flights_df.with_columns([\n",
    "        pl.when(pl.col(col).is_not_null())\n",
    "          .then(pl.col(col).cast(pl.Int32).mod(2400).truediv(100).floor() * 60 + pl.col(col).cast(pl.Int32).mod(100))\n",
    "          .otherwise(None)\n",
    "          .alias(col + '_MINUTES')\n",
    "    ])\n",
    "\n",
    "# Calculate actual elapsed time\n",
    "flights_df = flights_df.with_columns([\n",
    "    (pl.col('ARRIVAL_TIME_MINUTES') - pl.col('DEPARTURE_TIME_MINUTES')).alias('ACTUAL_ELAPSED_TIME')\n",
    "])"
   ]
  },
  {
   "cell_type": "code",
   "execution_count": 25,
   "id": "051df8c8-8687-4d7b-86b5-9fe371545ea8",
   "metadata": {},
   "outputs": [
    {
     "name": "stdout",
     "output_type": "stream",
     "text": [
      "Warning: Could not calculate quartiles for DEPARTURE_DELAY. Skipping outlier removal.\n",
      "Warning: Could not calculate quartiles for ARRIVAL_DELAY. Skipping outlier removal.\n",
      "Warning: Could not calculate quartiles for ACTUAL_ELAPSED_TIME. Skipping outlier removal.\n",
      "\n",
      "Basic Statistics After Cleaning and Encoding:\n",
      " shape: (9, 34)\n",
      "┌────────────┬──────┬───────┬──────┬───┬───────────────────┬───────────────────┬───────────────────┬───────────────────┐\n",
      "│ statistic  ┆ YEAR ┆ MONTH ┆ DAY  ┆ … ┆ DEPARTURE_TIME_MI ┆ SCHEDULED_ARRIVAL ┆ ARRIVAL_TIME_MINU ┆ ACTUAL_ELAPSED_TI │\n",
      "│ ---        ┆ ---  ┆ ---   ┆ ---  ┆   ┆ NUTES             ┆ _MINUTES          ┆ TES               ┆ ME                │\n",
      "│ str        ┆ f64  ┆ f64   ┆ f64  ┆   ┆ ---               ┆ ---               ┆ ---               ┆ ---               │\n",
      "│            ┆      ┆       ┆      ┆   ┆ f64               ┆ f64               ┆ f64               ┆ f64               │\n",
      "╞════════════╪══════╪═══════╪══════╪═══╪═══════════════════╪═══════════════════╪═══════════════════╪═══════════════════╡\n",
      "│ count      ┆ 0.0  ┆ 0.0   ┆ 0.0  ┆ … ┆ 0.0               ┆ 0.0               ┆ 0.0               ┆ 0.0               │\n",
      "│ null_count ┆ 0.0  ┆ 0.0   ┆ 0.0  ┆ … ┆ 0.0               ┆ 0.0               ┆ 0.0               ┆ 0.0               │\n",
      "│ mean       ┆ null ┆ null  ┆ null ┆ … ┆ null              ┆ null              ┆ null              ┆ null              │\n",
      "│ std        ┆ null ┆ null  ┆ null ┆ … ┆ null              ┆ null              ┆ null              ┆ null              │\n",
      "│ min        ┆ null ┆ null  ┆ null ┆ … ┆ null              ┆ null              ┆ null              ┆ null              │\n",
      "│ 25%        ┆ null ┆ null  ┆ null ┆ … ┆ null              ┆ null              ┆ null              ┆ null              │\n",
      "│ 50%        ┆ null ┆ null  ┆ null ┆ … ┆ null              ┆ null              ┆ null              ┆ null              │\n",
      "│ 75%        ┆ null ┆ null  ┆ null ┆ … ┆ null              ┆ null              ┆ null              ┆ null              │\n",
      "│ max        ┆ null ┆ null  ┆ null ┆ … ┆ null              ┆ null              ┆ null              ┆ null              │\n",
      "└────────────┴──────┴───────┴──────┴───┴───────────────────┴───────────────────┴───────────────────┴───────────────────┘\n"
     ]
    }
   ],
   "source": [
    "# Function to remove outliers safely\n",
    "def remove_outliers(df, column):\n",
    "    Q1 = df[column].quantile(0.25)\n",
    "    Q3 = df[column].quantile(0.75)\n",
    "    if Q1 is not None and Q3 is not None:\n",
    "        IQR = Q3 - Q1\n",
    "        lower_bound = Q1 - 1.5 * IQR\n",
    "        upper_bound = Q3 + 1.5 * IQR\n",
    "        return df.filter((pl.col(column) >= lower_bound) & (pl.col(column) <= upper_bound))\n",
    "    else:\n",
    "        print(f\"Warning: Could not calculate quartiles for {column}. Skipping outlier removal.\")\n",
    "        return df\n",
    "# Function to check if dtype is numeric\n",
    "def is_numeric_dtype(dtype):\n",
    "    return dtype in [pl.Float32, pl.Float64, pl.Int32, pl.Int64]\n",
    "\n",
    "# Remove outliers\n",
    "for col in ['DEPARTURE_DELAY', 'ARRIVAL_DELAY', 'ACTUAL_ELAPSED_TIME']:\n",
    "    if is_numeric_dtype(flights_df[col].dtype):\n",
    "        flights_df = remove_outliers(flights_df, col)\n",
    "    else:\n",
    "        print(f\"Warning: {col} is not numeric. Skipping outlier removal.\")\n",
    "\n",
    "\n",
    "# Basic statistics after cleaning and encoding\n",
    "print(\"\\nBasic Statistics After Cleaning and Encoding:\\n\", flights_df.describe())"
   ]
  },
  {
   "cell_type": "code",
   "execution_count": null,
   "id": "9db35228-4754-441e-bdf3-9e6915556904",
   "metadata": {},
   "outputs": [],
   "source": []
  }
 ],
 "metadata": {
  "kernelspec": {
   "display_name": "Python 3 (ipykernel)",
   "language": "python",
   "name": "python3"
  },
  "language_info": {
   "codemirror_mode": {
    "name": "ipython",
    "version": 3
   },
   "file_extension": ".py",
   "mimetype": "text/x-python",
   "name": "python",
   "nbconvert_exporter": "python",
   "pygments_lexer": "ipython3",
   "version": "3.9.21"
  }
 },
 "nbformat": 4,
 "nbformat_minor": 5
}

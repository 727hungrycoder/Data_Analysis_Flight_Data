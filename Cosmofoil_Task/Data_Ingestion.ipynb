{
 "cells": [
  {
   "cell_type": "code",
   "execution_count": 1,
   "id": "4f385d50-2201-47b3-8cf6-083ca829a545",
   "metadata": {},
   "outputs": [
    {
     "name": "stdout",
     "output_type": "stream",
     "text": [
      "shape: (1_063_439, 29)\n",
      "┌──────┬───────┬─────┬─────────────┬───┬────────────────┬───────────────┬─────────────────────┬───────────────┐\n",
      "│ YEAR ┆ MONTH ┆ DAY ┆ DAY_OF_WEEK ┆ … ┆ SECURITY_DELAY ┆ AIRLINE_DELAY ┆ LATE_AIRCRAFT_DELAY ┆ WEATHER_DELAY │\n",
      "│ ---  ┆ ---   ┆ --- ┆ ---         ┆   ┆ ---            ┆ ---           ┆ ---                 ┆ ---           │\n",
      "│ i64  ┆ i64   ┆ i64 ┆ i64         ┆   ┆ f64            ┆ f64           ┆ f64                 ┆ f64           │\n",
      "╞══════╪═══════╪═════╪═════════════╪═══╪════════════════╪═══════════════╪═════════════════════╪═══════════════╡\n",
      "│ 2015 ┆ 10    ┆ 2   ┆ 5           ┆ … ┆ 0.0            ┆ 0.0           ┆ 0.87                ┆ 0.0           │\n",
      "│ 2015 ┆ 1     ┆ 20  ┆ 2           ┆ … ┆ 0.0            ┆ 0.0           ┆ 0.0                 ┆ 0.0           │\n",
      "│ 2015 ┆ 4     ┆ 21  ┆ 2           ┆ … ┆ 0.0            ┆ 0.57          ┆ 0.0                 ┆ 0.0           │\n",
      "│ 2015 ┆ 7     ┆ 24  ┆ 5           ┆ … ┆ 0.0            ┆ 0.0           ┆ 1.88                ┆ 0.0           │\n",
      "│ 2015 ┆ 7     ┆ 13  ┆ 1           ┆ … ┆ 0.0            ┆ 0.02          ┆ 0.52                ┆ 0.0           │\n",
      "│ …    ┆ …     ┆ …   ┆ …           ┆ … ┆ …              ┆ …             ┆ …                   ┆ …             │\n",
      "│ 2015 ┆ 12    ┆ 14  ┆ 1           ┆ … ┆ 0.0            ┆ 0.0           ┆ 0.0                 ┆ 0.67          │\n",
      "│ 2015 ┆ 10    ┆ 8   ┆ 4           ┆ … ┆ 0.0            ┆ 0.03          ┆ 0.63                ┆ 0.0           │\n",
      "│ 2015 ┆ 2     ┆ 27  ┆ 5           ┆ … ┆ 0.0            ┆ 1.08          ┆ 0.0                 ┆ 0.0           │\n",
      "│ 2015 ┆ 6     ┆ 17  ┆ 3           ┆ … ┆ 0.0            ┆ 0.0           ┆ 0.0                 ┆ 0.2           │\n",
      "│ 2015 ┆ 6     ┆ 7   ┆ 7           ┆ … ┆ 0.0            ┆ 0.0           ┆ 1.22                ┆ 0.0           │\n",
      "└──────┴───────┴─────┴─────────────┴───┴────────────────┴───────────────┴─────────────────────┴───────────────┘\n"
     ]
    }
   ],
   "source": [
    "import polars as pl\n",
    "\n",
    "class FlightDataProcessor:\n",
    "    def __init__(self, file_path):\n",
    "        self.df = pl.read_csv(file_path)\n",
    "    \n",
    "    def convert_hhmm_to_decimal(self, columns):\n",
    "        self.df = self.df.with_columns([\n",
    "            ((pl.col(col) // 100) + (pl.col(col) % 100) / 60).round(2).alias(col)\n",
    "            for col in columns\n",
    "        ])\n",
    "    \n",
    "    def convert_minutes_to_hours(self, columns):\n",
    "        self.df = self.df.with_columns([\n",
    "            (pl.col(col) / 60).round(2).alias(col)\n",
    "            for col in columns\n",
    "        ])\n",
    "    \n",
    "    def drop_unwanted_columns(self, columns):\n",
    "        self.df = self.df.drop(columns)\n",
    "    \n",
    "    def encode_categorical_columns(self, columns):\n",
    "        for col in columns:\n",
    "            unique_values = self.df[col].unique().to_list()\n",
    "            encoding_map = {value: idx for idx, value in enumerate(unique_values)}\n",
    "            self.df = self.df.with_columns(pl.col(col).replace(encoding_map).cast(pl.Int64).alias(col))\n",
    "    \n",
    "    def handle_missing_values(self):\n",
    "        self.df = self.df.drop_nulls()\n",
    "    \n",
    "    def remove_duplicates(self):\n",
    "        self.df = self.df.unique()\n",
    "    \n",
    "    def process_data(self):\n",
    "        hhmm_columns = [\"SCHEDULED_DEPARTURE\", \"DEPARTURE_TIME\", \"WHEELS_OFF\", \n",
    "                        \"WHEELS_ON\", \"SCHEDULED_ARRIVAL\", \"ARRIVAL_TIME\"]\n",
    "        minute_columns = [\"DEPARTURE_DELAY\", \"TAXI_OUT\", \"SCHEDULED_TIME\", \"ELAPSED_TIME\",\n",
    "                          \"AIR_TIME\", \"TAXI_IN\", \"ARRIVAL_DELAY\", \"AIR_SYSTEM_DELAY\",\n",
    "                          \"SECURITY_DELAY\", \"AIRLINE_DELAY\", \"LATE_AIRCRAFT_DELAY\", \"WEATHER_DELAY\"]\n",
    "        categorical_columns = [\"AIRLINE\", \"ORIGIN_AIRPORT\", \"DESTINATION_AIRPORT\"]\n",
    "        columns_to_drop = [\"CANCELLATION_REASON\", \"TAIL_NUMBER\"]\n",
    "        \n",
    "        self.convert_hhmm_to_decimal(hhmm_columns)\n",
    "        self.convert_minutes_to_hours(minute_columns)\n",
    "        self.drop_unwanted_columns(columns_to_drop)\n",
    "        self.encode_categorical_columns(categorical_columns)\n",
    "        self.handle_missing_values()\n",
    "        self.remove_duplicates()\n",
    "    \n",
    "    def save_to_csv(self, output_path):\n",
    "        self.df.write_csv(output_path)\n",
    "    \n",
    "    def display(self):\n",
    "        print(self.df)\n",
    "\n",
    "# Usage example\n",
    "processor = FlightDataProcessor(\"flights.csv\")\n",
    "processor.process_data()\n",
    "processor.display()\n",
    "processor.save_to_csv(\"flights_cleaned.csv\")\n",
    "\n"
   ]
  },
  {
   "cell_type": "code",
   "execution_count": null,
   "id": "f26bc917-5f1c-4e4d-8e9e-527ccc12deb3",
   "metadata": {},
   "outputs": [],
   "source": []
  }
 ],
 "metadata": {
  "kernelspec": {
   "display_name": "Python 3 (ipykernel)",
   "language": "python",
   "name": "python3"
  },
  "language_info": {
   "codemirror_mode": {
    "name": "ipython",
    "version": 3
   },
   "file_extension": ".py",
   "mimetype": "text/x-python",
   "name": "python",
   "nbconvert_exporter": "python",
   "pygments_lexer": "ipython3",
   "version": "3.9.21"
  }
 },
 "nbformat": 4,
 "nbformat_minor": 5
}
